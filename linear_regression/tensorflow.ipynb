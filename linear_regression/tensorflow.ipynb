{
 "cells": [
  {
   "cell_type": "code",
   "execution_count": 1,
   "metadata": {},
   "outputs": [
    {
     "name": "stderr",
     "output_type": "stream",
     "text": [
      "/home/abhishek/anaconda2/lib/python2.7/site-packages/h5py/__init__.py:34: FutureWarning: Conversion of the second argument of issubdtype from `float` to `np.floating` is deprecated. In future, it will be treated as `np.float64 == np.dtype(float).type`.\n",
      "  from ._conv import register_converters as _register_converters\n"
     ]
    }
   ],
   "source": [
    "from __future__ import print_function\n",
    "\n",
    "import tensorflow as tf\n",
    "import pandas as pd\n",
    "import numpy as np\n",
    "import matplotlib.pyplot as plt"
   ]
  },
  {
   "cell_type": "code",
   "execution_count": 2,
   "metadata": {},
   "outputs": [
    {
     "data": {
      "text/html": [
       "<div>\n",
       "<style>\n",
       "    .dataframe thead tr:only-child th {\n",
       "        text-align: right;\n",
       "    }\n",
       "\n",
       "    .dataframe thead th {\n",
       "        text-align: left;\n",
       "    }\n",
       "\n",
       "    .dataframe tbody tr th {\n",
       "        vertical-align: top;\n",
       "    }\n",
       "</style>\n",
       "<table border=\"1\" class=\"dataframe\">\n",
       "  <thead>\n",
       "    <tr style=\"text-align: right;\">\n",
       "      <th></th>\n",
       "      <th>Cement (component 1)(kg in a m^3 mixture)</th>\n",
       "      <th>Blast Furnace Slag (component 2)(kg in a m^3 mixture)</th>\n",
       "      <th>Fly Ash (component 3)(kg in a m^3 mixture)</th>\n",
       "      <th>Water  (component 4)(kg in a m^3 mixture)</th>\n",
       "      <th>Superplasticizer (component 5)(kg in a m^3 mixture)</th>\n",
       "      <th>Coarse Aggregate  (component 6)(kg in a m^3 mixture)</th>\n",
       "      <th>Fine Aggregate (component 7)(kg in a m^3 mixture)</th>\n",
       "      <th>Age (day)</th>\n",
       "      <th>Concrete compressive strength(MPa, megapascals)</th>\n",
       "    </tr>\n",
       "  </thead>\n",
       "  <tbody>\n",
       "    <tr>\n",
       "      <th>count</th>\n",
       "      <td>1030.000000</td>\n",
       "      <td>1030.000000</td>\n",
       "      <td>1030.000000</td>\n",
       "      <td>1030.000000</td>\n",
       "      <td>1030.000000</td>\n",
       "      <td>1030.000000</td>\n",
       "      <td>1030.000000</td>\n",
       "      <td>1030.000000</td>\n",
       "      <td>1030.000000</td>\n",
       "    </tr>\n",
       "    <tr>\n",
       "      <th>mean</th>\n",
       "      <td>1.000000</td>\n",
       "      <td>1.000000</td>\n",
       "      <td>1.000000</td>\n",
       "      <td>1.000000</td>\n",
       "      <td>1.000000</td>\n",
       "      <td>1.000000</td>\n",
       "      <td>1.000000</td>\n",
       "      <td>1.000000</td>\n",
       "      <td>1.000000</td>\n",
       "    </tr>\n",
       "    <tr>\n",
       "      <th>std</th>\n",
       "      <td>0.371692</td>\n",
       "      <td>1.167583</td>\n",
       "      <td>1.181027</td>\n",
       "      <td>0.117619</td>\n",
       "      <td>0.962983</td>\n",
       "      <td>0.079918</td>\n",
       "      <td>0.103642</td>\n",
       "      <td>1.383420</td>\n",
       "      <td>0.466407</td>\n",
       "    </tr>\n",
       "    <tr>\n",
       "      <th>min</th>\n",
       "      <td>0.362775</td>\n",
       "      <td>0.000000</td>\n",
       "      <td>0.000000</td>\n",
       "      <td>0.670554</td>\n",
       "      <td>0.000000</td>\n",
       "      <td>0.823296</td>\n",
       "      <td>0.767860</td>\n",
       "      <td>0.021900</td>\n",
       "      <td>0.065102</td>\n",
       "    </tr>\n",
       "    <tr>\n",
       "      <th>25%</th>\n",
       "      <td>0.684205</td>\n",
       "      <td>0.000000</td>\n",
       "      <td>0.000000</td>\n",
       "      <td>0.908208</td>\n",
       "      <td>0.000000</td>\n",
       "      <td>0.957942</td>\n",
       "      <td>0.944894</td>\n",
       "      <td>0.153300</td>\n",
       "      <td>0.661880</td>\n",
       "    </tr>\n",
       "    <tr>\n",
       "      <th>50%</th>\n",
       "      <td>0.970602</td>\n",
       "      <td>0.297718</td>\n",
       "      <td>0.000000</td>\n",
       "      <td>1.018911</td>\n",
       "      <td>1.023680</td>\n",
       "      <td>0.994944</td>\n",
       "      <td>1.007667</td>\n",
       "      <td>0.613200</td>\n",
       "      <td>0.961610</td>\n",
       "    </tr>\n",
       "    <tr>\n",
       "      <th>75%</th>\n",
       "      <td>1.244818</td>\n",
       "      <td>1.934489</td>\n",
       "      <td>2.182621</td>\n",
       "      <td>1.057465</td>\n",
       "      <td>1.637888</td>\n",
       "      <td>1.058054</td>\n",
       "      <td>1.065179</td>\n",
       "      <td>1.226399</td>\n",
       "      <td>1.288081</td>\n",
       "    </tr>\n",
       "    <tr>\n",
       "      <th>max</th>\n",
       "      <td>1.920576</td>\n",
       "      <td>4.863626</td>\n",
       "      <td>3.692758</td>\n",
       "      <td>1.360384</td>\n",
       "      <td>5.190943</td>\n",
       "      <td>1.176871</td>\n",
       "      <td>1.283127</td>\n",
       "      <td>7.993494</td>\n",
       "      <td>2.306092</td>\n",
       "    </tr>\n",
       "  </tbody>\n",
       "</table>\n",
       "</div>"
      ],
      "text/plain": [
       "       Cement (component 1)(kg in a m^3 mixture)  \\\n",
       "count                                1030.000000   \n",
       "mean                                    1.000000   \n",
       "std                                     0.371692   \n",
       "min                                     0.362775   \n",
       "25%                                     0.684205   \n",
       "50%                                     0.970602   \n",
       "75%                                     1.244818   \n",
       "max                                     1.920576   \n",
       "\n",
       "       Blast Furnace Slag (component 2)(kg in a m^3 mixture)  \\\n",
       "count                                        1030.000000       \n",
       "mean                                            1.000000       \n",
       "std                                             1.167583       \n",
       "min                                             0.000000       \n",
       "25%                                             0.000000       \n",
       "50%                                             0.297718       \n",
       "75%                                             1.934489       \n",
       "max                                             4.863626       \n",
       "\n",
       "       Fly Ash (component 3)(kg in a m^3 mixture)  \\\n",
       "count                                 1030.000000   \n",
       "mean                                     1.000000   \n",
       "std                                      1.181027   \n",
       "min                                      0.000000   \n",
       "25%                                      0.000000   \n",
       "50%                                      0.000000   \n",
       "75%                                      2.182621   \n",
       "max                                      3.692758   \n",
       "\n",
       "       Water  (component 4)(kg in a m^3 mixture)  \\\n",
       "count                                1030.000000   \n",
       "mean                                    1.000000   \n",
       "std                                     0.117619   \n",
       "min                                     0.670554   \n",
       "25%                                     0.908208   \n",
       "50%                                     1.018911   \n",
       "75%                                     1.057465   \n",
       "max                                     1.360384   \n",
       "\n",
       "       Superplasticizer (component 5)(kg in a m^3 mixture)  \\\n",
       "count                                        1030.000000     \n",
       "mean                                            1.000000     \n",
       "std                                             0.962983     \n",
       "min                                             0.000000     \n",
       "25%                                             0.000000     \n",
       "50%                                             1.023680     \n",
       "75%                                             1.637888     \n",
       "max                                             5.190943     \n",
       "\n",
       "       Coarse Aggregate  (component 6)(kg in a m^3 mixture)  \\\n",
       "count                                        1030.000000      \n",
       "mean                                            1.000000      \n",
       "std                                             0.079918      \n",
       "min                                             0.823296      \n",
       "25%                                             0.957942      \n",
       "50%                                             0.994944      \n",
       "75%                                             1.058054      \n",
       "max                                             1.176871      \n",
       "\n",
       "       Fine Aggregate (component 7)(kg in a m^3 mixture)    Age (day)  \\\n",
       "count                                        1030.000000  1030.000000   \n",
       "mean                                            1.000000     1.000000   \n",
       "std                                             0.103642     1.383420   \n",
       "min                                             0.767860     0.021900   \n",
       "25%                                             0.944894     0.153300   \n",
       "50%                                             1.007667     0.613200   \n",
       "75%                                             1.065179     1.226399   \n",
       "max                                             1.283127     7.993494   \n",
       "\n",
       "       Concrete compressive strength(MPa, megapascals)   \n",
       "count                                       1030.000000  \n",
       "mean                                           1.000000  \n",
       "std                                            0.466407  \n",
       "min                                            0.065102  \n",
       "25%                                            0.661880  \n",
       "50%                                            0.961610  \n",
       "75%                                            1.288081  \n",
       "max                                            2.306092  "
      ]
     },
     "execution_count": 2,
     "metadata": {},
     "output_type": "execute_result"
    }
   ],
   "source": [
    "df = pd.read_excel('Concrete_Data.xls')\n",
    "df = df/df.mean()\n",
    "df.describe()"
   ]
  },
  {
   "cell_type": "code",
   "execution_count": 3,
   "metadata": {
    "collapsed": true
   },
   "outputs": [],
   "source": [
    "data = df.values"
   ]
  },
  {
   "cell_type": "code",
   "execution_count": 4,
   "metadata": {},
   "outputs": [
    {
     "name": "stdout",
     "output_type": "stream",
     "text": [
      "(900, 8)\n",
      "(900, 1)\n",
      "(130, 8)\n",
      "(130, 1)\n"
     ]
    }
   ],
   "source": [
    "train = data[:900]\n",
    "test = data[900:]\n",
    "x_train = train[:,:-1]\n",
    "y_train = train[:,-1].reshape(900,1)\n",
    "x_test = test[:,:-1]\n",
    "y_test = test[:, -1].reshape(130,1)\n",
    "print (x_train.shape)\n",
    "print (y_train.shape)\n",
    "print (x_test.shape)\n",
    "print (y_test.shape)"
   ]
  },
  {
   "cell_type": "code",
   "execution_count": 5,
   "metadata": {
    "collapsed": true
   },
   "outputs": [],
   "source": [
    "lr = 1e-1\n",
    "num_steps = 1000\n",
    "display_step = 100\n",
    "num_samples = x_train.shape[0]\n",
    "num_attrib = x_train.shape[1]"
   ]
  },
  {
   "cell_type": "code",
   "execution_count": 6,
   "metadata": {
    "collapsed": true
   },
   "outputs": [],
   "source": [
    "weights = tf.Variable(tf.ones([8,1], dtype=tf.float32, name=None))\n",
    "bias = tf.Variable(tf.constant(1.0))"
   ]
  },
  {
   "cell_type": "code",
   "execution_count": 7,
   "metadata": {
    "collapsed": true
   },
   "outputs": [],
   "source": [
    "X = tf.placeholder(\"float\", [None, num_attrib])\n",
    "Y = tf.placeholder(\"float\", [None, 1])"
   ]
  },
  {
   "cell_type": "code",
   "execution_count": 8,
   "metadata": {
    "collapsed": true
   },
   "outputs": [],
   "source": [
    "preds = tf.add(tf.matmul(X, weights), bias)\n",
    "loss = tf.reduce_sum(tf.pow(preds-Y, 2)/num_samples)\n",
    "optimizer = tf.train.GradientDescentOptimizer(lr).minimize(loss)"
   ]
  },
  {
   "cell_type": "code",
   "execution_count": 9,
   "metadata": {
    "collapsed": true
   },
   "outputs": [],
   "source": [
    "init = tf.global_variables_initializer()"
   ]
  },
  {
   "cell_type": "code",
   "execution_count": 10,
   "metadata": {
    "collapsed": true
   },
   "outputs": [],
   "source": [
    "sess = tf.Session()\n",
    "sess.run(init)"
   ]
  },
  {
   "cell_type": "code",
   "execution_count": 11,
   "metadata": {},
   "outputs": [
    {
     "name": "stdout",
     "output_type": "stream",
     "text": [
      "Step : 0001  Loss: 46.9250335693\n",
      "Step : 0100  Loss: 0.0986919775605\n",
      "Step : 0200  Loss: 0.0946119129658\n",
      "Step : 0300  Loss: 0.0930579602718\n",
      "Step : 0400  Loss: 0.0920426174998\n",
      "Step : 0500  Loss: 0.0913100466132\n",
      "Step : 0600  Loss: 0.0907748937607\n",
      "Step : 0700  Loss: 0.0903833881021\n",
      "Step : 0800  Loss: 0.0900969207287\n",
      "Step : 0900  Loss: 0.0898873209953\n",
      "Step : 1000  Loss: 0.0897339433432\n",
      "\n",
      " Final Weights:\n",
      "[[ 0.8318259 ]\n",
      " [ 0.18206088]\n",
      " [ 0.12178484]\n",
      " [-0.7187403 ]\n",
      " [ 0.07505155]\n",
      " [ 0.24639677]\n",
      " [ 0.11520278]\n",
      " [ 0.14309587]]\n",
      "\n",
      " Bias:\n",
      "0.0069163125\n"
     ]
    }
   ],
   "source": [
    "ep, ls = [], []\n",
    "for step in range(1, num_steps+1):\n",
    "    sess.run(optimizer, feed_dict={X: x_train, Y: y_train})\n",
    "    if step==1 or step%display_step == 0:\n",
    "        cost = (sess.run(loss, feed_dict={X: x_train, Y: y_train}))\n",
    "        print ('Step : %04d' %(step), ' Loss: {}'.format(cost))\n",
    "        ep.append(step)\n",
    "        ls.append(cost)\n",
    "\n",
    "print (\"\\n Final Weights:\")\n",
    "print (sess.run(weights))\n",
    "print (\"\\n Bias:\")\n",
    "print (sess.run(bias))"
   ]
  },
  {
   "cell_type": "code",
   "execution_count": 12,
   "metadata": {},
   "outputs": [
    {
     "data": {
      "image/png": "[encoded data removed]",
      "text/plain": [
       "<matplotlib.figure.Figure at 0x7f20e24c1710>"
      ]
     },
     "metadata": {},
     "output_type": "display_data"
    }
   ],
   "source": [
    "plt.plot(ep[1:], ls[1:], 'ko-', label='Loss')\n",
    "plt.xlabel('Epoch')\n",
    "plt.legend()\n",
    "plt.grid()\n",
    "plt.show()"
   ]
  },
  {
   "cell_type": "code",
   "execution_count": 13,
   "metadata": {},
   "outputs": [
    {
     "name": "stdout",
     "output_type": "stream",
     "text": [
      "[[ 0.8318259 ]\n",
      " [ 0.18206088]\n",
      " [ 0.12178484]\n",
      " [-0.7187403 ]\n",
      " [ 0.07505155]\n",
      " [ 0.24639677]\n",
      " [ 0.11520278]\n",
      " [ 0.14309587]] 0.0069163125\n"
     ]
    }
   ],
   "source": [
    "print (sess.run(weights), sess.run(bias))"
   ]
  },
  {
   "cell_type": "code",
   "execution_count": 14,
   "metadata": {},
   "outputs": [
    {
     "data": {
      "image/png": "[encoded data removed]",
      "text/plain": [
       "<matplotlib.figure.Figure at 0x7f20e246ec90>"
      ]
     },
     "metadata": {},
     "output_type": "display_data"
    },
    {
     "name": "stdout",
     "output_type": "stream",
     "text": [
      "\n",
      " Loss:  [1.33809191]\n"
     ]
    }
   ],
   "source": [
    "preds = sess.run(tf.add(tf.matmul(tf.cast(x_test, tf.float32), weights), bias))\n",
    "plt.plot(range(1,11), preds[:10], 'bo--', label=\"Predictions\")\n",
    "plt.plot(range(1,11), y_test[:10], 'ro--', label=\"Actual\")\n",
    "plt.grid()\n",
    "plt.legend()\n",
    "plt.show()\n",
    "print (\"\\n Loss: \",sum(abs(preds[:10]-y_test[:10])))"
   ]
  },
  {
   "cell_type": "code",
   "execution_count": 15,
   "metadata": {
    "collapsed": true
   },
   "outputs": [],
   "source": [
    "sess.close()"
   ]
  }
 ],
 "metadata": {
  "kernelspec": {
   "display_name": "Python 2",
   "language": "python",
   "name": "python2"
  },
  "language_info": {
   "codemirror_mode": {
    "name": "ipython",
    "version": 2
   },
   "file_extension": ".py",
   "mimetype": "text/x-python",
   "name": "python",
   "nbconvert_exporter": "python",
   "pygments_lexer": "ipython2",
   "version": "2.7.14"
  }
 },
 "nbformat": 4,
 "nbformat_minor": 2
}
