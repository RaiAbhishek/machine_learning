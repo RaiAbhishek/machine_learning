{
 "cells": [
  {
   "cell_type": "code",
   "execution_count": 1,
   "metadata": {
    "collapsed": true
   },
   "outputs": [],
   "source": [
    "from __future__ import print_function\n",
    "\n",
    "import pandas as pd\n",
    "import numpy as np\n",
    "import matplotlib.pyplot as plt\n",
    "\n",
    "np.random.seed(42)"
   ]
  },
  {
   "cell_type": "code",
   "execution_count": 2,
   "metadata": {
    "collapsed": true
   },
   "outputs": [],
   "source": [
    "df_train = pd.read_csv('train.csv')\n",
    "df_train = df_train.iloc[:, 1:]\n",
    "df_train.replace({'Sex':{'male':0,'female':1}, 'Name':{'Mr':-1,'Mrs':1,'Master':-0.5,'Miss':0.5}}, inplace=True)\n",
    "df_train.Age = df_train.Age/df_train.Age.mean()\n",
    "df_train.Fare = df_train.Fare/df_train.Fare.mean()"
   ]
  },
  {
   "cell_type": "code",
   "execution_count": 3,
   "metadata": {
    "collapsed": true
   },
   "outputs": [],
   "source": [
    "df_test = pd.read_csv('test.csv')\n",
    "df_test = df_test.iloc[:, 1:]\n",
    "df_test.replace({'Sex':{'male':0,'female':1}, 'Name':{'Mr':-1,'Mrs':1,'Master':-0.5,'Miss':0.5}}, inplace=True)\n",
    "df_test.Age = df_test.Age/df_test.Age.mean()\n",
    "df_test.Fare = df_test.Fare/df_test.Fare.mean()"
   ]
  },
  {
   "cell_type": "code",
   "execution_count": 4,
   "metadata": {
    "collapsed": true
   },
   "outputs": [],
   "source": [
    "x_train = df_train.drop('Survived', axis=1).values\n",
    "y_train = df_train.Survived.values.reshape(720,1)\n",
    "x_test = df_test.drop('Survived', axis=1).values\n",
    "y_test = df_test.Survived.values.reshape(171,1)"
   ]
  },
  {
   "cell_type": "code",
   "execution_count": 5,
   "metadata": {},
   "outputs": [
    {
     "name": "stdout",
     "output_type": "stream",
     "text": [
      "Epoch: 0001  Cost:401.62627\n",
      "Epoch: 0300  Cost:212.78475\n",
      "Epoch: 0600  Cost:210.87449\n",
      "Epoch: 0900  Cost:209.62256\n",
      "Epoch: 1200  Cost:208.55457\n",
      "Epoch: 1500  Cost:207.62437\n",
      "Epoch: 1800  Cost:206.81326\n",
      "Epoch: 2100  Cost:206.10500\n",
      "Epoch: 2400  Cost:205.48492\n",
      "Epoch: 2700  Cost:204.94019\n",
      "Epoch: 3000  Cost:204.45978\n",
      "Epoch: 3300  Cost:204.03430\n",
      "Epoch: 3600  Cost:203.65581\n",
      "Epoch: 3900  Cost:203.31757\n",
      "Epoch: 4200  Cost:203.01389\n",
      "Epoch: 4500  Cost:202.73996\n",
      "Epoch: 4800  Cost:202.49170\n",
      "Epoch: 5100  Cost:202.26563\n",
      "Epoch: 5400  Cost:202.05881\n",
      "Epoch: 5700  Cost:201.86874\n",
      "Epoch: 6000  Cost:201.69327\n",
      "Optimized !!\n"
     ]
    }
   ],
   "source": [
    "n_samples = x_train.shape[0]\n",
    "n_attrib = x_train.shape[1]\n",
    "batch_size = 10\n",
    "n_epochs = 6000\n",
    "display_epoch = 300\n",
    "learning_rate = 1e-1\n",
    "\n",
    "weights = np.random.rand(n_attrib,1)\n",
    "bias = 1.0\n",
    "\n",
    "def activate(x):\n",
    "    return 1/(1+np.exp(-x))\n",
    "\n",
    "ep, ls, ac = [], [], []\n",
    "\n",
    "for epoch in range(1,n_epochs+1):\n",
    "    \n",
    "    output = activate(np.dot(x_train, weights)+bias)\n",
    "    loss = -((y_train * np.log(output))+((1-y_train)* np.log(1-output)))\n",
    "    cost = np.sum(abs(output-y_train))\n",
    "    weights -= (learning_rate/n_samples) * (np.dot(x_train.T, (output-y_train)))\n",
    "    bias -= (learning_rate/n_samples) * (sum(output-y_train))\n",
    "    \n",
    "    if epoch==1 or epoch%display_epoch == 0:\n",
    "        \n",
    "        print ('Epoch: %04d'% (epoch), ' Cost:{0:.5f}'.format(cost))\n",
    "        ep.append(epoch)\n",
    "        ls.append(cost)\n",
    "        pred = activate(np.dot(x_test,weights)+ bias)\n",
    "        pred = np.round(pred)\n",
    "        acc = np.mean(np.equal(pred, y_test))\n",
    "        ac.append(acc)\n",
    "\n",
    "print ('Optimized !!')"
   ]
  },
  {
   "cell_type": "code",
   "execution_count": 6,
   "metadata": {},
   "outputs": [
    {
     "name": "stdout",
     "output_type": "stream",
     "text": [
      "[[-1.03475549]\n",
      " [ 1.51091033]\n",
      " [ 0.22774165]\n",
      " [-1.03762497]\n",
      " [-0.3206671 ]\n",
      " [-0.26661792]\n",
      " [ 0.08288749]]\n",
      "[3.47208902]\n"
     ]
    }
   ],
   "source": [
    "print (weights)\n",
    "print (bias)"
   ]
  },
  {
   "cell_type": "code",
   "execution_count": 7,
   "metadata": {},
   "outputs": [
    {
     "data": {
      "image/png": "[encoded data removed]",
      "text/plain": [
       "<matplotlib.figure.Figure at 0x7fbf50d36b10>"
      ]
     },
     "metadata": {},
     "output_type": "display_data"
    }
   ],
   "source": [
    "plt.plot(ep[1:], ls[1:], 'ro--', label='Cost')\n",
    "plt.xlabel('Epoch')\n",
    "plt.legend()\n",
    "plt.grid()\n",
    "plt.show()"
   ]
  },
  {
   "cell_type": "code",
   "execution_count": 8,
   "metadata": {},
   "outputs": [
    {
     "data": {
      "image/png": "[encoded data removed]",
      "text/plain": [
       "<matplotlib.figure.Figure at 0x7fbf50d0edd0>"
      ]
     },
     "metadata": {},
     "output_type": "display_data"
    }
   ],
   "source": [
    "plt.plot(ep[1:], ac[1:], 'bo--', label='Accuracy')\n",
    "plt.xlabel('Epoch')\n",
    "plt.legend()\n",
    "plt.grid()\n",
    "plt.show()"
   ]
  },
  {
   "cell_type": "code",
   "execution_count": 9,
   "metadata": {},
   "outputs": [
    {
     "name": "stdout",
     "output_type": "stream",
     "text": [
      "Final Test Accuracy: 0.847953216374269\n"
     ]
    }
   ],
   "source": [
    "print (\"Final Test Accuracy:\", acc)"
   ]
  }
 ],
 "metadata": {
  "kernelspec": {
   "display_name": "Python 2",
   "language": "python",
   "name": "python2"
  },
  "language_info": {
   "codemirror_mode": {
    "name": "ipython",
    "version": 2
   },
   "file_extension": ".py",
   "mimetype": "text/x-python",
   "name": "python",
   "nbconvert_exporter": "python",
   "pygments_lexer": "ipython2",
   "version": "2.7.14"
  }
 },
 "nbformat": 4,
 "nbformat_minor": 2
}
