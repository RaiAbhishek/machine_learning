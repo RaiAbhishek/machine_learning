{
 "cells": [
  {
   "cell_type": "code",
   "execution_count": 1,
   "metadata": {},
   "outputs": [
    {
     "name": "stderr",
     "output_type": "stream",
     "text": [
      "/home/abhishek/anaconda2/lib/python2.7/site-packages/h5py/__init__.py:34: FutureWarning: Conversion of the second argument of issubdtype from `float` to `np.floating` is deprecated. In future, it will be treated as `np.float64 == np.dtype(float).type`.\n",
      "  from ._conv import register_converters as _register_converters\n"
     ]
    }
   ],
   "source": [
    "from __future__ import print_function\n",
    "\n",
    "import tensorflow as tf\n",
    "import pandas as pd\n",
    "import matplotlib.pyplot as plt\n",
    "\n",
    "tf.set_random_seed(27)"
   ]
  },
  {
   "cell_type": "code",
   "execution_count": 2,
   "metadata": {
    "collapsed": true
   },
   "outputs": [],
   "source": [
    "df_train = pd.read_csv('train.csv')\n",
    "df_train = df_train.iloc[:, 1:]\n",
    "df_train.replace({'Sex':{'male':0,'female':1}, 'Name':{'Mr':-1,'Mrs':1,'Master':-0.5,'Miss':0.5}},\\\n",
    "                 inplace=True)\n",
    "df_train.Age = df_train.Age/df_train.Age.mean()\n",
    "df_train.Fare = df_train.Fare/df_train.Fare.mean()"
   ]
  },
  {
   "cell_type": "code",
   "execution_count": 3,
   "metadata": {
    "collapsed": true
   },
   "outputs": [],
   "source": [
    "df_test = pd.read_csv('test.csv')\n",
    "df_test = df_test.iloc[:, 1:]\n",
    "df_test.replace({'Sex':{'male':0,'female':1}, 'Name':{'Mr':-1,'Mrs':1,'Master':-0.5,'Miss':0.5}},\\\n",
    "                inplace=True)\n",
    "df_test.Age = df_test.Age/df_test.Age.mean()\n",
    "df_test.Fare = df_test.Fare/df_test.Fare.mean()"
   ]
  },
  {
   "cell_type": "code",
   "execution_count": 4,
   "metadata": {
    "collapsed": true
   },
   "outputs": [],
   "source": [
    "x_train = df_train.drop('Survived', axis=1).values\n",
    "y_train = df_train.Survived.values.reshape(720,1)\n",
    "x_test = df_test.drop('Survived', axis=1).values\n",
    "y_test = df_test.Survived.values.reshape(171,1)"
   ]
  },
  {
   "cell_type": "code",
   "execution_count": 5,
   "metadata": {
    "collapsed": true
   },
   "outputs": [],
   "source": [
    "num_samples = x_train.shape[0]\n",
    "num_attrib = x_train.shape[1]\n",
    "num_epochs = 500\n",
    "display_epoch = 20\n",
    "learning_rate = 1e-2"
   ]
  },
  {
   "cell_type": "code",
   "execution_count": 6,
   "metadata": {
    "collapsed": true
   },
   "outputs": [],
   "source": [
    "X = tf.placeholder(\"float\", [None, num_attrib])\n",
    "Y = tf.placeholder(\"float\", [None, 1])"
   ]
  },
  {
   "cell_type": "code",
   "execution_count": 7,
   "metadata": {},
   "outputs": [],
   "source": [
    "weights = tf.Variable(tf.random_normal([7,1], dtype=tf.float32))\n",
    "bias = tf.Variable(tf.random_normal([1]))"
   ]
  },
  {
   "cell_type": "code",
   "execution_count": 8,
   "metadata": {},
   "outputs": [],
   "source": [
    "preds = tf.sigmoid(tf.matmul(X, weights) + bias)\n",
    "loss = -tf.reduce_mean((Y * tf.log(preds))+((1-Y) * tf.log(1-preds)))\n",
    "optimizer = tf.train.GradientDescentOptimizer(learning_rate=learning_rate).minimize(loss)\n",
    "accuracy = tf.reduce_mean(tf.cast(tf.equal(tf.round(preds), Y), tf.float32))"
   ]
  },
  {
   "cell_type": "code",
   "execution_count": 9,
   "metadata": {
    "collapsed": true
   },
   "outputs": [],
   "source": [
    "init = tf.global_variables_initializer()"
   ]
  },
  {
   "cell_type": "code",
   "execution_count": 10,
   "metadata": {
    "collapsed": true
   },
   "outputs": [],
   "source": [
    "sess = tf.Session()\n",
    "sess.run(init)"
   ]
  },
  {
   "cell_type": "code",
   "execution_count": 11,
   "metadata": {},
   "outputs": [
    {
     "name": "stdout",
     "output_type": "stream",
     "text": [
      "Epoch: 0001  Cost:0.81893\n",
      "Epoch: 0020  Cost:0.74405\n",
      "Epoch: 0040  Cost:0.68823\n",
      "Epoch: 0060  Cost:0.64987\n",
      "Epoch: 0080  Cost:0.62372\n",
      "Epoch: 0100  Cost:0.60576\n",
      "Epoch: 0120  Cost:0.59310\n",
      "Epoch: 0140  Cost:0.58380\n",
      "Epoch: 0160  Cost:0.57661\n",
      "Epoch: 0180  Cost:0.57075\n",
      "Epoch: 0200  Cost:0.56575\n",
      "Epoch: 0220  Cost:0.56132\n",
      "Epoch: 0240  Cost:0.55729\n",
      "Epoch: 0260  Cost:0.55357\n",
      "Epoch: 0280  Cost:0.55008\n",
      "Epoch: 0300  Cost:0.54679\n",
      "Epoch: 0320  Cost:0.54367\n",
      "Epoch: 0340  Cost:0.54071\n",
      "Epoch: 0360  Cost:0.53790\n",
      "Epoch: 0380  Cost:0.53522\n",
      "Epoch: 0400  Cost:0.53267\n",
      "Epoch: 0420  Cost:0.53024\n",
      "Epoch: 0440  Cost:0.52792\n",
      "Epoch: 0460  Cost:0.52571\n",
      "Epoch: 0480  Cost:0.52359\n",
      "Epoch: 0500  Cost:0.52158\n",
      "Done\n"
     ]
    }
   ],
   "source": [
    "ep, ls, ac = [], [], []\n",
    "\n",
    "for epoch in range(1, num_epochs+1):\n",
    "    sess.run(optimizer, feed_dict={X: x_train, Y: y_train})\n",
    "    if epoch==1 or epoch%display_epoch==0:\n",
    "        acc, lo = sess.run([accuracy,loss], feed_dict={X: x_train, Y: y_train})\n",
    "        print ('Epoch: %04d'% (epoch), ' Cost:{0:.5f}'.format(lo))        \n",
    "        ep.append(epoch)\n",
    "        ls.append(lo)\n",
    "        ac.append(acc)\n",
    "print (\"Done\")"
   ]
  },
  {
   "cell_type": "code",
   "execution_count": 12,
   "metadata": {},
   "outputs": [
    {
     "data": {
      "image/png": "[encoded data removed]",
      "text/plain": [
       "<matplotlib.figure.Figure at 0x7f180a6f26d0>"
      ]
     },
     "metadata": {},
     "output_type": "display_data"
    }
   ],
   "source": [
    "plt.plot(ep[1:], ls[1:], 'ro--', label='Cost')\n",
    "plt.xlabel('Epoch')\n",
    "plt.legend()\n",
    "plt.grid()\n",
    "plt.show()"
   ]
  },
  {
   "cell_type": "code",
   "execution_count": 13,
   "metadata": {},
   "outputs": [
    {
     "data": {
      "image/png": "[encoded data removed]",
      "text/plain": [
       "<matplotlib.figure.Figure at 0x7f180633ff90>"
      ]
     },
     "metadata": {},
     "output_type": "display_data"
    }
   ],
   "source": [
    "plt.plot(ep[1:], ac[1:], 'bo--', label='Accuracy')\n",
    "plt.xlabel('Epoch')\n",
    "plt.legend()\n",
    "plt.grid()\n",
    "plt.show()"
   ]
  },
  {
   "cell_type": "code",
   "execution_count": 14,
   "metadata": {},
   "outputs": [
    {
     "name": "stdout",
     "output_type": "stream",
     "text": [
      "Final Test Accuracy: 0.75\n"
     ]
    }
   ],
   "source": [
    "print (\"Final Test Accuracy:\", acc)\n",
    "sess.close()"
   ]
  }
 ],
 "metadata": {
  "kernelspec": {
   "display_name": "Python 2",
   "language": "python",
   "name": "python2"
  },
  "language_info": {
   "codemirror_mode": {
    "name": "ipython",
    "version": 2
   },
   "file_extension": ".py",
   "mimetype": "text/x-python",
   "name": "python",
   "nbconvert_exporter": "python",
   "pygments_lexer": "ipython2",
   "version": "2.7.14"
  }
 },
 "nbformat": 4,
 "nbformat_minor": 2
}
